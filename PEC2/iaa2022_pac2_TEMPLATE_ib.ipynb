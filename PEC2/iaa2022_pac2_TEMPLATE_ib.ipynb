{
  "nbformat": 4,
  "nbformat_minor": 0,
  "metadata": {
    "colab": {
      "name": "iaa2022_pac2_ENUNCIAT_ib.ipynb",
      "provenance": [],
      "collapsed_sections": []
    },
    "kernelspec": {
      "name": "python3",
      "display_name": "Python 3"
    },
    "language_info": {
      "name": "python"
    }
  },
  "cells": [
    {
      "cell_type": "markdown",
      "source": [
        "<div style=\"width: 100%; clear: both;\">\n",
        "<div style=\"float: left; width: 50%;\">\n",
        "<img src=\"http://www.uoc.edu/portal/_resources/common/imatges/marca_UOC/UOC_Masterbrand.jpg\", align=\"left\">\n",
        "</div>\n",
        "<div style=\"float: right; width: 50%;\">\n",
        "<p style=\"margin: 0; padding-top: 22px; text-align:right;\">M1.304 · Inteligencia Artificial Avanzada / M0.539 · Inteligencia Artificial</p>\n",
        "<p style=\"margin: 0; text-align:right;\">MU Ingeniería Informática / MU Ingeniería Computacional y Matemática</p>\n",
        "<p style=\"margin: 0; text-align:right; padding-button: 100px;\">Estudios de Informática, Multimedia y Telecomunicación</p>\n",
        "</div>\n",
        "</div>\n",
        "<div style=\"width:100%;\">&nbsp;</div>"
      ],
      "metadata": {
        "id": "MB2ACKO0E1y0"
      }
    },
    {
      "cell_type": "markdown",
      "source": [
        "## PAC 2: REDUCCIÓN DE DIMENSIONALIDAD Y CLASIFICACIÓN"
      ],
      "metadata": {
        "id": "oMVm1hhdFA3D"
      }
    },
    {
      "cell_type": "markdown",
      "source": [
        "###Presentación\n",
        "\n",
        "En esta prueba de evaluación estudiaremos cómo aplicar técnicas de reducción de dimensionalidad y el desarrollo de algoritmos clasificadores."
      ],
      "metadata": {
        "id": "22ja2SDWFRAa"
      }
    },
    {
      "cell_type": "markdown",
      "source": [
        "###Competencias\n",
        "\n",
        "En este enunciado se trabajan las siguientes competencias generales de\n",
        "máster:\n",
        "- Capacidad para proyectar, calcular y diseñar productos, procesos e\n",
        "instalaciones en todos los ámbitos de la ingeniería informática.\n",
        "- Capacidad para el modelado matemático, cálculo y simulación en\n",
        "centros tecnológicos y de ingeniería de empresa, particularmente en\n",
        "tareas de investigación, desarrollo e innovación en todos los ámbitos\n",
        "relacionados con la ingeniería informática.\n",
        "- Capacidad para aplicar los conocimientos adquiridos y solucionar\n",
        "problemas en entornos nuevos o poco conocidos dentro de contextos\n",
        "más amplios y multidisciplinares, siendo capaces de integrar estos\n",
        "conocimientos.\n",
        "- Poseer habilidades para el aprendizaje continuo, autodirigido y\n",
        "autónomo.\n",
        "- Capacidad para modelar, diseñar, definir la arquitectura, implantar,\n",
        "gestionar, operar, administrar y mantener aplicaciones, redes,\n",
        "sistemas, servicios y contenidos informáticos.\n",
        "\n",
        "Las competencias específicas de esta asignatura que se trabajan en esta\n",
        "prueba son:\n",
        "- Entender qué es el aprendizaje automático en el contexto de la\n",
        "inteligencia artificial.\n",
        "- Distinguir entre los diferentes tipos y métodos de aprendizaje.\n",
        "- Aplicar las técnicas estudiadas a un caso real."
      ],
      "metadata": {
        "id": "qiBHwfmbF1m2"
      }
    },
    {
      "cell_type": "markdown",
      "source": [
        "###Objectivos\n",
        "\n",
        "En esta PEC estudiaréis el tratamiento de datos reales sobre vinos y la aplicación de técnicas de reducción de dimensionalidad, concretamente, el análisis de componentes principales (_Principal Component Analysis_, PAC). En la segunda parte, trabajaréis con diferentes algoritmos de clasificación, i técnicas i métricas de validación."
      ],
      "metadata": {
        "id": "kNq8i-PnF36y"
      }
    },
    {
      "cell_type": "markdown",
      "source": [
        "###Recursos\n",
        "\n",
        "Esta PAC requiere los recursos siguientes:\n",
        "\n",
        "Archivos proporcionados:\n",
        "\n",
        "  * El archivo .ipynb que estáis leyendo y que deberéis completar con vuestras respuestas para resolver la PEC.\n",
        "\n",
        "Complementarioss: \n",
        "  * Manual de teoría de la asignatura y documentación de las librerías utilizadas (_scikit-learn_, _pandas_, _seaborn_,...)."
      ],
      "metadata": {
        "id": "TgqHljy8F-JC"
      }
    },
    {
      "cell_type": "markdown",
      "source": [
        "###Entrega y criterios de evaluación\n",
        "\n",
        "La PEC se debe entregar el **26 d'abril del 2022**. \n",
        "\n",
        "La entrega debe incluir una versión editada de este cuaderno (.ipynb). Se recomienda el uso de Google Colab (https://colab.research.google.com/). El código de las soluciones a los ejercicios se debe implementar y ejecutar en las celdas de código proporcionadas y la respuestas justificadas se deben agregar a las celdas de texto correspondientes.\n",
        "\n",
        "Todas las respuestas deben estar correctamente razonadas y justificadas. **Las soluciones que no vayan acompañadas de la correspondiente respuesta razonada no serán evaluadas**.\n",
        "\n",
        "Los ejercicios se valoraran de la siguiente forma:\n",
        "* Actividad 1: 5 puntos\n",
        "* Actividad 2: 5 puntos\n",
        "\n",
        "Cada ejercicio será evaluado teniendo en cuenta tanto la corrección técnica de la solución como la justificación y argumentación del procedimiento y los resultados."
      ],
      "metadata": {
        "id": "9vkpqiWbHK-S"
      }
    },
    {
      "cell_type": "markdown",
      "source": [
        "###Descripción de la PEC"
      ],
      "metadata": {
        "id": "g9gXabVOHUW9"
      }
    },
    {
      "cell_type": "markdown",
      "source": [
        "En esta PEC se aplicarán técnicas de reducción de dimensionalidad y de clasificación sobre datos de diferentes tipos de vinos obtenidos a partir de su análisis químico:\n",
        "\n",
        "> Forina, M. \"An extendible package for data exploration, classification and correlation (1998).\" Institute of Pharmaceutical and Food Analysis and Technologies.\n",
        "\n",
        "El conjunto de datos incluye muestras de tres tipos de vinos producidos en una misma región de Italia pero procedentes de diferentes cultivos. Los datos se generaron a partir del análisis químico de diferentes muestras. Los atributos incluyen, entre otros, la graduación, el color o el contenido de magnesio. \n",
        "\n",
        "Es posible consultar la descripción completa del conjunto de datos en el siguiente enlace:\n",
        "\n",
        "https://archive.ics.uci.edu/ml/datasets/Wine\n",
        "\n",
        "El objetivo de esta prueba es estudiar y utilizar métodos de reducción de dimensionalidad i familiarizaros con el desarrollo y validación de algoritmos de clasificación automática.\n",
        "\n",
        "Las soluciones a los ejercicios estarán basadas principalmente en la librería de código abierto _scikit-learn_ de Python, que incorpora una gran variedad de algoritmos de aprendizaje automático, preprocesado, validación y visualización. Por lo tanto, es muy importante que consultéis la documentación oficial siempre que sea necesario:\n",
        "\n",
        "https://scikit-learn.org/stable/"
      ],
      "metadata": {
        "id": "30AZmsTgH6ua"
      }
    },
    {
      "cell_type": "markdown",
      "source": [
        "## Ejercicio 1"
      ],
      "metadata": {
        "id": "nzZeyiY5ECOY"
      }
    },
    {
      "cell_type": "markdown",
      "source": [
        "Para empezar, debemos importar los módulos necesarios para cargar los datos. El conjunto de datos original está disponible en _scikit-learn_ y forma parte del módulo _datasets_.\n",
        "\n",
        "https://scikit-learn.org/stable/modules/generated/sklearn.datasets.load_wine\n",
        "\n",
        "Estudiad y ejecutad el código proporcionado en la siguiente celda y familiarizaros con el conjunto de datos."
      ],
      "metadata": {
        "id": "GDhdONPfK_Yq"
      }
    },
    {
      "cell_type": "code",
      "source": [
        "import pandas as pd\n",
        "import numpy as np\n",
        "from sklearn.datasets import load_wine\n",
        "\n",
        "raw_data = load_wine()\n",
        "\n",
        "df_features = pd.DataFrame(raw_data['data'], \n",
        "                           columns=raw_data['feature_names'])\n",
        "df_labels = pd.DataFrame({'label': raw_data['target']})"
      ],
      "metadata": {
        "id": "vz55ZWSo4L2F"
      },
      "execution_count": null,
      "outputs": []
    },
    {
      "cell_type": "markdown",
      "source": [
        "**1.a) (0.5 PUNT)** Explorad el conjunto de datos.\n",
        "\n",
        "Una vez cargado el conjunt de datos debéis familiarizaros con su contenido. Este apartado no es diferente de algunos apartados que ya habéis trabajado en la PAC1.\n",
        "\n",
        "Responded a las siguientes cuestiones:\n",
        "- ¿Cuáles son los atributos incluidos en el conjunto de datos?\n",
        "- ¿Cuántas muestras incluye el conjunto de datos?\n",
        "- ¿Cuántas clases, y cuántas muestras de cada una, incluye el conjunto de datos?\n"
      ],
      "metadata": {
        "id": "diuzkaFIDg75"
      }
    },
    {
      "cell_type": "code",
      "source": [
        "# 1.a: añadid y ejecutad vuestro código aquí"
      ],
      "metadata": {
        "id": "cTZj5ehzME5V"
      },
      "execution_count": null,
      "outputs": []
    },
    {
      "cell_type": "markdown",
      "source": [
        "**1.b) (1 PUNT)** Los conjuntos de datos a menudo incluyen una gran cantidad de muestras y atributos. Su análisis se debe llevar a cabo utilizando técnicas estadísticas y de minería de datos y la visualización no siempre es fácilmente accesible. Sin embargo, la visualización parcial en algunos pueda dar algunas pistas. Un ejemplo sería nuestro caso, dado que estamos trabajando con un conjunto de datos de dimensiones reducidas.\n",
        "\n",
        "Para los primeros 8 atributos, mostrad las gráficas de dispersión (_scatter plot_) de todas las parejas de atributos. Para ello, generad una rejilla de 8x8 gráficas de manera que la gráfica de la posición [ _i_, _j_ ] corresponga a la gráfica de dispersión del atributo _i_ (eje x) y el atributo _j_ (eje x).\n",
        "\n",
        "Nota: la diagonal de la rejilla corresponderá a un único atributo y, por lo tanto, podéis dejar en blanco las gráficas correspondientes.\n"
      ],
      "metadata": {
        "id": "Y1phLHIOMdIL"
      }
    },
    {
      "cell_type": "code",
      "source": [
        "# 1.b: añadid y ejecutad vuestro código aquí"
      ],
      "metadata": {
        "id": "KDmKLkNxZUEW"
      },
      "execution_count": null,
      "outputs": []
    },
    {
      "cell_type": "markdown",
      "source": [
        "Añadid aquí vuestra respuesta."
      ],
      "metadata": {
        "id": "26UceelcTtQe"
      }
    },
    {
      "cell_type": "markdown",
      "source": [
        "**1.c) (1 PUNT)** Representad en una gráfica la media y la desviación típica de todos los atributos. Comentad la gráfica obtenida, indicad los atributos con máxima y mínima dispersión (desviación típica) y proporcionar sus valores.\n",
        "\n",
        "Nota. Podéis utilizar _matplotlib.errorbar_ para representar la desviación típica."
      ],
      "metadata": {
        "id": "9d84lfbKDtJk"
      }
    },
    {
      "cell_type": "code",
      "source": [
        "# 1.c: añadid y ejecutad vuestro código aquí"
      ],
      "metadata": {
        "id": "AiHD3CkNxhiI"
      },
      "execution_count": null,
      "outputs": []
    },
    {
      "cell_type": "markdown",
      "source": [
        "Añadid aquí vuestra respuesta."
      ],
      "metadata": {
        "id": "Jqyi_z29Z2uN"
      }
    },
    {
      "cell_type": "markdown",
      "source": [
        "**1.d) (1 PUNT)** Aplicad un análisis PCA a los datos y, de manera similar al Ejercicio 1.c, representad en una gráfica la media y la desviación típica de todos los atributos. Identificad los atributos con máxima y mínima dispersión (desviación típica) y proporcionar sus respectivos valores. Comentad los resultados."
      ],
      "metadata": {
        "id": "kNBx0O2vEWFP"
      }
    },
    {
      "cell_type": "code",
      "source": [
        "# 1.d: añadid y ejecutad vuestro código aquí"
      ],
      "metadata": {
        "id": "MMtIAgLfbklA"
      },
      "execution_count": null,
      "outputs": []
    },
    {
      "cell_type": "markdown",
      "source": [
        "Añadid aquí vuestra respuesta."
      ],
      "metadata": {
        "id": "aSGpCr1_jtCn"
      }
    },
    {
      "cell_type": "markdown",
      "source": [
        "**1.e) (0.5 PUNTS)** De la misma manera que en el ejercicio 1.b, pero en este caso para las 8 primeras componentes principales (espacio PCA), mostrad las gráficas de dispersión (_scatter plot_) de las parejas de componentes en una rejilla de 8x8 gráficas. Comentad el resultado."
      ],
      "metadata": {
        "id": "glBwP02sEYxD"
      }
    },
    {
      "cell_type": "code",
      "source": [
        "# 1.e: añadid y ejecutad vuestro código aquí"
      ],
      "metadata": {
        "id": "Q4Rc0ePsjrRJ"
      },
      "execution_count": null,
      "outputs": []
    },
    {
      "cell_type": "markdown",
      "source": [
        "Añadid aquí vuestra respuesta."
      ],
      "metadata": {
        "id": "-_tEp4-nmEbe"
      }
    },
    {
      "cell_type": "markdown",
      "source": [
        "**1.f) (1 PUNTS)** Mostrad el gráfico de varianza acumulada explicada por el espacio PCA respecto a la cantidad de componentes. Identificad cuántos componentes PCA son necesarios para representar el 90% de la varianza de los datos originales."
      ],
      "metadata": {
        "id": "5Kn64KzhEh3L"
      }
    },
    {
      "cell_type": "code",
      "source": [
        "# 1.f: añadid y ejecutad vuestro código aquí"
      ],
      "metadata": {
        "id": "-2BzAcSQks7V"
      },
      "execution_count": null,
      "outputs": []
    },
    {
      "cell_type": "markdown",
      "source": [
        "## EJERCICIO 2"
      ],
      "metadata": {
        "id": "LZTlvxoCEFVy"
      }
    },
    {
      "cell_type": "markdown",
      "source": [
        "En este ejercicio trabajaremos con diferentes algoritmos de clasificación, técnicas de validación y medidas de evaluación. Para ello utilizaremos una nueva versión del conjunto de datos en el que la cantidad de clases se ha reducido a dos. Estudiad y ejecutad el código proporcionado en la siguiente celda."
      ],
      "metadata": {
        "id": "9HNaq8nmB2fQ"
      }
    },
    {
      "cell_type": "code",
      "source": [
        "import pandas as pd\n",
        "import numpy as np\n",
        "from sklearn.datasets import load_wine\n",
        "\n",
        "raw_data = load_wine()\n",
        "\n",
        "df_features = pd.DataFrame(raw_data['data'], \n",
        "                           columns=raw_data['feature_names'])\n",
        "df_labels = pd.DataFrame({'label': raw_data['target']})\n",
        "df_labels[df_labels==2] = 0"
      ],
      "metadata": {
        "id": "0a_uN9GS7FAq"
      },
      "execution_count": null,
      "outputs": []
    },
    {
      "cell_type": "markdown",
      "source": [
        "**2.a) (1 PUNT)** Entrenad un árbol de decisión de profundidad 4, implementado en _scikit-learn_, utilizando el 70% de los datos disponibles (conjunto de entrenamiento) y calculad el tiempo de entrenamiento.\n",
        "\n",
        "https://scikit-learn.org/stable/modules/generated/sklearn.tree.DecisionTreeClassifier.html"
      ],
      "metadata": {
        "id": "kL4fD1KVEIGp"
      }
    },
    {
      "cell_type": "code",
      "source": [
        "# 2.a: añadid y ejecutad vuestro código aquí"
      ],
      "metadata": {
        "id": "2i8cg4aDCNvJ"
      },
      "execution_count": null,
      "outputs": []
    },
    {
      "cell_type": "markdown",
      "source": [
        "**2.b) (1 PUNT)** Representad el árbol de decisión obtenido. ¿Qué atributo tiene más valor descriptivo?\n",
        "\n",
        "Nota: Podéis utilizar el método _sklearn.tree.plot_tree_.\n",
        "\n",
        "https://scikit-learn.org/stable/modules/generated/sklearn.tree.plot_tree.html"
      ],
      "metadata": {
        "id": "DFqtufLZvKD7"
      }
    },
    {
      "cell_type": "code",
      "source": [
        "# 2.b: añadid y ejecutad vuestro código aquí"
      ],
      "metadata": {
        "id": "Yyc_U1l9rrl3"
      },
      "execution_count": null,
      "outputs": []
    },
    {
      "cell_type": "markdown",
      "source": [
        "Añadid aquí vuestra respuesta."
      ],
      "metadata": {
        "id": "Z6IcmuomsZOp"
      }
    },
    {
      "cell_type": "markdown",
      "source": [
        "**2.c) (1 PUNT)** Para el conjunto de test restante (30% de los datos), representad la matriz de confusión. Proporcionad una definición con vuestras palabras (no os limitéis a la fórmula) de las métricas precisión, recall y F1-score, y obtened sus valores en el conjunto de test para todas las clases."
      ],
      "metadata": {
        "id": "yJHSEiwI8FUr"
      }
    },
    {
      "cell_type": "code",
      "source": [
        "# 2.c: añadid y ejecutad vuestro código aquí"
      ],
      "metadata": {
        "id": "jFqy2LVxH9gG"
      },
      "execution_count": null,
      "outputs": []
    },
    {
      "cell_type": "markdown",
      "source": [
        "Añadid aquí vuestra respuesta."
      ],
      "metadata": {
        "id": "63RLJx1ax6E3"
      }
    },
    {
      "cell_type": "markdown",
      "source": [
        "**2.d) (1 PUNT)** Entrenad un clasificador AdaBoost con un árbol de decisión de profundidad 2 como estimador y validadlo utilizando validación cruzada con k=5 en todo el conjunto de datos. Obtened precisión, recall, F1-score y comentad los resultados.\n",
        "\n",
        "Nota: Utilizad _sklearn.model_selection.StratifiedKFold_ en el parámetro _cv_ de _cross_validate_ para crear los subconjuntos (_folds_, _splits_).\n",
        "\n",
        "https://scikit-learn.org/stable/modules/generated/sklearn.model_selection.cross_validate.html\n",
        "\n",
        "https://scikit-learn.org/stable/modules/generated/sklearn.model_selection.StratifiedKFold.html"
      ],
      "metadata": {
        "id": "dHTZtVKBAa4g"
      }
    },
    {
      "cell_type": "code",
      "source": [
        "# 2.d: añadid y ejecutad vuestro código aquí"
      ],
      "metadata": {
        "id": "ubqoZkcp1HsW"
      },
      "execution_count": null,
      "outputs": []
    },
    {
      "cell_type": "markdown",
      "source": [
        "**2.e) (1 PUNT)** Comparad la validación que se ha utilizado en el ejercicio 2.a con la validación utilizada en el ejercicio 2.d. ¿Qué deficiencias puede tener la validación simple? ¿Cuál es la finalidad de utilizar validación cruzada? ¿En qué casos es necesaria? Razonad vuestra respuesta."
      ],
      "metadata": {
        "id": "98hdLvQeAg3l"
      }
    },
    {
      "cell_type": "markdown",
      "source": [
        "Añadid aquí vuestra respuesta.\n"
      ],
      "metadata": {
        "id": "ifuO5jgqCP5f"
      }
    },
    {
      "cell_type": "markdown",
      "source": [
        "###Nota: Propiedad intelectual\n",
        "\n",
        "A menudo es inevitable, al producir una obra multimedia, hacer uso de recursos creados por terceras personas. Es por tanto comprensible hacerlo en el marco de una práctica de los estudios del Grado Multimedia, siempre y cuando esto se documente claramente y no suponga plagio en la práctica.\n",
        "\n",
        "Por lo tanto, al presentar una práctica que haga uso de recursos ajenos, se presentará junto con ella un documento en el que se detallen todos ellos, especificando el nombre de cada recurso, su autor, el lugar donde se obtuvo y el su estatus legal: si la obra está protegida por copyright o se acoge a alguna otra licencia de uso (Creative Commons, GNU, GPL ...). El estudiante deberá asegurarse de que la licencia que sea no impide específicamente su uso en el marco de la práctica. En caso de no encontrar la información correspondiente deberá asumir que la obra está protegida por copyright.\n",
        "\n",
        "Deberán, además, adjuntar los archivos originales cuando las obras utilizadas sean digitales, y su código fuente si corresponde.\n",
        "\n",
        "Otro punto a considerar es que cualquier práctica que haga uso de recursos protegidos por copyright no podrá en ningún caso publicarse en Mosaic, la revista del Grado en Multimedia en la UOC, a no ser que los propietarios de los derechos intelectuales den su autorización explícita."
      ],
      "metadata": {
        "id": "fgazU_p3HtPO"
      }
    }
  ]
}